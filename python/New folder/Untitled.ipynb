{
 "cells": [
  {
   "cell_type": "code",
   "execution_count": 36,
   "id": "a81f1694-7e38-4438-8c63-e3df5ccefe22",
   "metadata": {},
   "outputs": [
    {
     "name": "stdout",
     "output_type": "stream",
     "text": [
      "ana 23 25.99\n",
      "my name is: ana\n",
      "23\n",
      "<class 'float'>\n"
     ]
    }
   ],
   "source": [
    "name = \"ana\"\n",
    "age=23 \n",
    "price=25.99\n",
    "print(name,age,price)\n",
    "print(\"my name is:\",name)\n",
    "age2=age\n",
    "print(age2)\n",
    "print(type(price))"
   ]
  },
  {
   "cell_type": "code",
   "execution_count": 47,
   "id": "e586126f-c07d-4eec-9714-cb3e66cf8205",
   "metadata": {},
   "outputs": [
    {
     "name": "stdout",
     "output_type": "stream",
     "text": [
      "64\n",
      "False\n",
      "True\n",
      "True\n",
      "11\n"
     ]
    }
   ],
   "source": [
    "a=2 #singleline \n",
    "b=6 \n",
    "mul=a**b #power of b \n",
    "\"\"\"\n",
    "multi \n",
    "line\n",
    "\"\"\"\n",
    "print(mul)\n",
    "print(a==b)\n",
    "print(a!=b)\n",
    "print(a<=b)\n",
    "b+=5\n",
    "print(b)"
   ]
  },
  {
   "cell_type": "code",
   "execution_count": 63,
   "id": "ac78ddfb-e792-47f1-87a4-eb20f385601a",
   "metadata": {},
   "outputs": [
    {
     "name": "stdout",
     "output_type": "stream",
     "text": [
      "<class 'int'>\n",
      "6.0\n"
     ]
    }
   ],
   "source": [
    "a=int(\"2\")\n",
    "b=4.0\n",
    "print(type(a))\n",
    "print(a+b)\n"
   ]
  },
  {
   "cell_type": "code",
   "execution_count": 69,
   "id": "e0741d1f-530b-47df-9f61-4b5f275b0199",
   "metadata": {},
   "outputs": [
    {
     "name": "stdin",
     "output_type": "stream",
     "text": [
      "enter ur name: nandini\n"
     ]
    },
    {
     "name": "stdout",
     "output_type": "stream",
     "text": [
      "nandini\n"
     ]
    }
   ],
   "source": [
    "name = input(\"enter ur name:\")\n",
    "print(name)"
   ]
  },
  {
   "cell_type": "code",
   "execution_count": 1,
   "id": "4c6796b3-2e15-4c1e-a301-7a012911266e",
   "metadata": {},
   "outputs": [
    {
     "name": "stdin",
     "output_type": "stream",
     "text": [
      "enter your name: nandini\n"
     ]
    },
    {
     "name": "stdout",
     "output_type": "stream",
     "text": [
      "the length of string is =  7\n"
     ]
    }
   ],
   "source": [
    "#input user first name and print its length\n",
    "\n",
    "name=input(\"enter your name:\")\n",
    "print(\"the length of string is = \",len(name))"
   ]
  },
  {
   "cell_type": "code",
   "execution_count": 11,
   "id": "2de0c367-d1fe-45d2-8372-e30871ec4c6b",
   "metadata": {},
   "outputs": [
    {
     "name": "stdout",
     "output_type": "stream",
     "text": [
      "3\n"
     ]
    }
   ],
   "source": [
    "#find the occurence of dollars in string\n",
    "  \n",
    "str = \"hi ,$am the dollar$ $100\"\n",
    "print(str.count(\"$\"))"
   ]
  },
  {
   "cell_type": "code",
   "execution_count": 3,
   "id": "0b2659e5-7a50-419a-ae46-27e4c88c997d",
   "metadata": {},
   "outputs": [
    {
     "name": "stdin",
     "output_type": "stream",
     "text": [
      "give the color yellow\n"
     ]
    },
    {
     "name": "stdout",
     "output_type": "stream",
     "text": [
      "ready\n"
     ]
    }
   ],
   "source": [
    "light = input(\"give the color\")\n",
    "if(light == \"red\"):\n",
    "  print(\"stop\")\n",
    "elif(light == \"green\"):\n",
    "  print(\"go\")\n",
    "elif(light == \"yellow\"):\n",
    "    print(\"ready\")\n",
    "else:\n",
    "    print(\"end of code\")"
   ]
  },
  {
   "cell_type": "code",
   "execution_count": 14,
   "id": "1c98d803-2dba-45f3-841d-198748e676e1",
   "metadata": {},
   "outputs": [
    {
     "name": "stdout",
     "output_type": "stream",
     "text": [
      "can drive\n"
     ]
    }
   ],
   "source": [
    "#Nesting \n",
    "age = 32\n",
    "\n",
    "if(age>=18):\n",
    "    if(age>=34):\n",
    "       print(\"cannot drive\")\n",
    "    else:\n",
    "       print(\"can drive\")\n",
    "\n",
    "else:\n",
    "    print(\"cannot drive\")"
   ]
  },
  {
   "cell_type": "code",
   "execution_count": 16,
   "id": "15e70e40-98b4-49e0-9993-b41147502409",
   "metadata": {},
   "outputs": [
    {
     "name": "stdin",
     "output_type": "stream",
     "text": [
      "enter the number 15\n"
     ]
    },
    {
     "name": "stdout",
     "output_type": "stream",
     "text": [
      "ODD\n"
     ]
    }
   ],
   "source": [
    "#check if no. entered is odd or even\n",
    "\n",
    "num = int(input(\"enter the number\"))\n",
    "\n",
    "condition = num % 2\n",
    "\n",
    "if(condition == 0):\n",
    "    print(\"EVEN\")\n",
    "else:\n",
    "    print(\"ODD\")"
   ]
  },
  {
   "cell_type": "code",
   "execution_count": 22,
   "id": "e6adecd6-49cb-4166-b830-07014728f5f2",
   "metadata": {},
   "outputs": [
    {
     "name": "stdin",
     "output_type": "stream",
     "text": [
      "enter the first number 4\n",
      "enter the second number 7\n",
      "enter the third number 2\n"
     ]
    },
    {
     "name": "stdout",
     "output_type": "stream",
     "text": [
      "second number is largest 7\n"
     ]
    }
   ],
   "source": [
    "#find greatest of 3 numbers entered by user\n",
    "a = int(input(\"enter the first number\"))\n",
    "b = int(input(\"enter the second number\"))\n",
    "c = int(input(\"enter the third number\"))\n",
    "\n",
    "if(a>=b and a>=c):\n",
    "    print(\"first number is largest\",a)\n",
    "elif(b>=a and b>=c):\n",
    "    print(\"second number is largest\",b)\n",
    "else:\n",
    "    print(\"third number is largest\",c)"
   ]
  },
  {
   "cell_type": "code",
   "execution_count": 26,
   "id": "ff12c7d0-8b2c-438f-b540-d16bc7a0dc6b",
   "metadata": {},
   "outputs": [
    {
     "name": "stdin",
     "output_type": "stream",
     "text": [
      "enter the number 68\n"
     ]
    },
    {
     "name": "stdout",
     "output_type": "stream",
     "text": [
      "not multiple of 7\n"
     ]
    }
   ],
   "source": [
    "#check if number is multiple of 7 or not\n",
    "x = int(input(\"enter the number\"))\n",
    "\n",
    "if(x % 7 == 0):\n",
    "   print(\"multiple of 7\")\n",
    "else:\n",
    "   print(\"not multiple of 7\")"
   ]
  },
  {
   "cell_type": "code",
   "execution_count": 43,
   "id": "56f539b2-02a6-4df8-8637-174c01e80933",
   "metadata": {},
   "outputs": [
    {
     "name": "stdout",
     "output_type": "stream",
     "text": [
      "[90, 33, 45, 60]\n",
      "<class 'list'>\n",
      "45\n",
      "4\n",
      "['shree', 95.6, 17, 'nagpur']\n",
      "shree\n",
      "priyanka\n",
      "[20, 40, 90]\n",
      "[10, 20, 40, 90, 30, 60]\n",
      "[10, 20, 30, 40, 60, 90]\n",
      "[90, 60, 40, 30, 20, 10]\n",
      "[10, 20, 30, 40, 60, 90]\n",
      "[20, 30, 40, 60, 90]\n",
      "[20, 30, 40, 90]\n"
     ]
    }
   ],
   "source": [
    "#list = stores a set of values can handle different datatypes \n",
    "# lists are mutable\n",
    "marks = [90,33,45,60]\n",
    "print(marks)\n",
    "print(type(marks))\n",
    "print(marks[2])\n",
    "print(len(marks))\n",
    "student = [\"shree\",95.6,17,\"nagpur\"]\n",
    "print(student)\n",
    "print(student[0])\n",
    "student[0] = \"priyanka\"\n",
    "print(student[0])\n",
    "#list slicing\n",
    "num = [10,20,40,90,30]\n",
    "print(num[1:4])\n",
    "num.append(60)\n",
    "print(num)\n",
    "num.sort()\n",
    "print(num)\n",
    "num.sort(reverse=True)\n",
    "print(num)\n",
    "num.reverse()\n",
    "print(num)\n",
    "num.remove(10)\n",
    "print(num)\n",
    "num.pop(3)\n",
    "print(num)\n"
   ]
  },
  {
   "cell_type": "code",
   "execution_count": 3,
   "id": "50aa1204-7713-4eaa-b8d8-99bbea13a97b",
   "metadata": {},
   "outputs": [
    {
     "name": "stdout",
     "output_type": "stream",
     "text": [
      "<class 'tuple'>\n",
      "20\n",
      "1\n"
     ]
    }
   ],
   "source": [
    "#tupple is immutable sequence of values just like strings\n",
    "tup = (10,20,30,40,50)\n",
    "print(type(tup))\n",
    "print(tup[1])\n",
    "print(tup.count(20))"
   ]
  },
  {
   "cell_type": "code",
   "execution_count": 5,
   "id": "3db06875-bfdd-490d-820e-7251c5dc6735",
   "metadata": {},
   "outputs": [
    {
     "name": "stdin",
     "output_type": "stream",
     "text": [
      "enter the name of the first movie twilight saga\n",
      "enter the name of the second movie panchayat\n",
      "enter the name of the third movie mirzapur\n"
     ]
    },
    {
     "name": "stdout",
     "output_type": "stream",
     "text": [
      "['twilight saga', 'panchayat', 'mirzapur']\n"
     ]
    }
   ],
   "source": [
    "#ask user to enter the name of their 3 fav movies and store them in a list\n",
    "movies = []\n",
    "first = input(\"enter the name of the first movie\")\n",
    "second = input(\"enter the name of the second movie\")\n",
    "third = input(\"enter the name of the third movie\")\n",
    "\n",
    "movies.append(first)\n",
    "movies.append(second)\n",
    "movies.append(third)\n",
    "print(movies)"
   ]
  },
  {
   "cell_type": "code",
   "execution_count": 7,
   "id": "3d7bce78-a12b-46fd-b09d-1eacacbbb833",
   "metadata": {},
   "outputs": [
    {
     "name": "stdout",
     "output_type": "stream",
     "text": [
      "palindrome\n"
     ]
    }
   ],
   "source": [
    "#if a list contains a palindrome of elements. use copy method eg:\"maam\"\n",
    " \n",
    "list1 = [1,2,1]\n",
    "list2 = [1,2,3]\n",
    "\n",
    "copy_list1 = list1.copy()\n",
    "copy_list1.reverse()\n",
    "\n",
    "if(copy_list1 == list1):\n",
    "    print(\"palindrome\")\n",
    "else:\n",
    "    print(\"not palindrome\")\n",
    "\n"
   ]
  },
  {
   "cell_type": "code",
   "execution_count": 13,
   "id": "874b4f8d-773d-4a14-8e0f-7eb6089f906d",
   "metadata": {},
   "outputs": [
    {
     "name": "stdout",
     "output_type": "stream",
     "text": [
      "2\n"
     ]
    }
   ],
   "source": [
    "#count the number of students with A grade in the foll tupple\n",
    "tup = (\"C\",\"D\",\"A\",\"A\",\"B\",\"B\",\"E\")\n",
    "print(tup.count(\"A\"))\n"
   ]
  },
  {
   "cell_type": "code",
   "execution_count": 15,
   "id": "da6dcc20-d5e9-48cd-bff2-a2600d7278de",
   "metadata": {},
   "outputs": [
    {
     "name": "stdout",
     "output_type": "stream",
     "text": [
      "<class 'dict'>\n",
      "{'age': 35, 'name': 'shree', 'marks': 96.5}\n",
      "shree\n",
      "{'age': 35, 'name': 'nandini', 'marks': 96.5}\n",
      "{'phy': 97, 'chem': 98, 'math': 95}\n",
      "dict_keys(['name', 'subjects'])\n",
      "dict_values(['nandini', {'phy': 97, 'chem': 98, 'math': 95}])\n",
      "dict_items([('name', 'nandini'), ('subjects', {'phy': 97, 'chem': 98, 'math': 95})])\n",
      "nandini\n",
      "{'name': 'nandini', 'subjects': {'phy': 97, 'chem': 98, 'math': 95}, 'city': 'delhi'}\n"
     ]
    }
   ],
   "source": [
    "#dictionaries are used to store key value pair. they are unordered, mutable(changeable), dont allow duplicates\n",
    "info = {\"age\" : 35,\n",
    "        \"name\" : \"shree\",\n",
    "        \"marks\" : 96.5}\n",
    "print(type(info))\n",
    "print(info)\n",
    "print(info[\"name\"])\n",
    "info[\"name\"] = \"nandini\"\n",
    "print(info)\n",
    "# nested dict \n",
    "student = {\"name\" : \"nandini\",\n",
    "           \"subjects\" : {\n",
    "               \"phy\" : 97,\n",
    "               \"chem\" : 98,\n",
    "               \"math\" : 95}}\n",
    "print(student[\"subjects\"])\n",
    "print(student.keys())\n",
    "print(student.values())\n",
    "print(student.items())\n",
    "print(student.get(\"name\"))\n",
    "\n",
    "\n",
    "new_dict = {\"city\" : \"delhi\"}\n",
    "student.update(new_dict)\n",
    "print(student)"
   ]
  },
  {
   "cell_type": "code",
   "execution_count": 19,
   "id": "97b2d51a-2009-47d1-9c51-ed92044a83c7",
   "metadata": {},
   "outputs": [
    {
     "name": "stdout",
     "output_type": "stream",
     "text": [
      "{1, 2, 4, 'hello', 'world'}\n",
      "<class 'set'>\n",
      "{1, 2, 4, 'hello', 'xyz', 'world'}\n",
      "{1, 2, 4, 'hello', 'world'}\n",
      "{1, 2, 4, 8, 9, 'hello', 'world'}\n",
      "{2}\n"
     ]
    }
   ],
   "source": [
    "#sets is the collection of the unordered items,each element must be unique and elements are immutable. no duplicates printed\n",
    "set={1,2,2,4,\"hello\",\"world\"}\n",
    "print(set)\n",
    "print(type(set))\n",
    "set.add(\"xyz\")\n",
    "print(set)\n",
    "set.remove(\"xyz\")\n",
    "print(set)\n",
    "#set.clear()\n",
    "#set.pop()\n",
    "set2={2,8,9}\n",
    "print(set.union(set2))\n",
    "print(set.intersection(set2))"
   ]
  },
  {
   "cell_type": "code",
   "execution_count": 32,
   "id": "14b62acd-82fd-42b1-9561-6673eb6d8378",
   "metadata": {},
   "outputs": [
    {
     "name": "stdout",
     "output_type": "stream",
     "text": [
      "hello 1\n",
      "hello 2\n",
      "hello 3\n",
      "hello 4\n",
      "hello 5\n",
      "********************************************************************\n",
      "1\n",
      "2\n",
      "3\n",
      "4\n",
      "5\n",
      "6\n",
      "7\n",
      "8\n",
      "9\n",
      "10\n",
      "11\n",
      "12\n",
      "13\n",
      "14\n",
      "15\n",
      "16\n",
      "17\n",
      "18\n",
      "19\n",
      "20\n",
      "21\n",
      "22\n",
      "23\n",
      "24\n",
      "25\n",
      "26\n",
      "27\n",
      "28\n",
      "29\n",
      "30\n",
      "31\n",
      "32\n",
      "33\n",
      "34\n",
      "35\n",
      "36\n",
      "37\n",
      "38\n",
      "39\n",
      "40\n",
      "41\n",
      "42\n",
      "43\n",
      "44\n",
      "45\n",
      "46\n",
      "47\n",
      "48\n",
      "49\n",
      "50\n",
      "51\n",
      "52\n",
      "53\n",
      "54\n",
      "55\n",
      "56\n",
      "57\n",
      "58\n",
      "59\n",
      "60\n",
      "61\n",
      "62\n",
      "63\n",
      "64\n",
      "65\n",
      "66\n",
      "67\n",
      "68\n",
      "69\n",
      "70\n",
      "71\n",
      "72\n",
      "73\n",
      "74\n",
      "75\n",
      "76\n",
      "77\n",
      "78\n",
      "79\n",
      "80\n",
      "81\n",
      "82\n",
      "83\n",
      "84\n",
      "85\n",
      "86\n",
      "87\n",
      "88\n",
      "89\n",
      "90\n",
      "91\n",
      "92\n",
      "93\n",
      "94\n",
      "95\n",
      "96\n",
      "97\n",
      "98\n",
      "99\n",
      "100\n",
      "********************************************************************\n"
     ]
    },
    {
     "name": "stdin",
     "output_type": "stream",
     "text": [
      "enter number: 3\n"
     ]
    },
    {
     "name": "stdout",
     "output_type": "stream",
     "text": [
      "0\n",
      "3\n",
      "6\n",
      "9\n",
      "12\n",
      "15\n",
      "18\n",
      "21\n",
      "24\n",
      "27\n",
      "30\n",
      "********************************************************************\n",
      "1\n",
      "4\n",
      "9\n",
      "16\n",
      "25\n",
      "36\n",
      "49\n",
      "64\n",
      "81\n",
      "100\n",
      "********************************************************************\n",
      "finding\n",
      "finding\n",
      "finding\n",
      "finding\n",
      "finding\n",
      "found at index 5\n",
      "finding\n",
      "finding\n",
      "finding\n",
      "finding\n"
     ]
    }
   ],
   "source": [
    "# while loop \n",
    "count=1\n",
    "while count<=5:\n",
    "    print(\"hello\",count)\n",
    "    count +=1\n",
    "print(\"********************************************************************\")\n",
    "i=1\n",
    "while i<=100:\n",
    "    print(i)\n",
    "    i += 1\n",
    "print(\"********************************************************************\")\n",
    "n= int(input(\"enter number:\"))\n",
    "i=0\n",
    "while i<=10:\n",
    "    print(n*i)\n",
    "    i += 1\n",
    "print(\"********************************************************************\")\n",
    "num=[1,4,9,16,25,36,49,64,81,100]\n",
    "i=0\n",
    "while i < len(num):\n",
    "     print(num[i])\n",
    "     i += 1\n",
    "print(\"********************************************************************\")\n",
    "tup=(1,4,9,16,25,36,49,64,81,100)\n",
    "x=36\n",
    "i=0\n",
    "while i < len(num):\n",
    "    if(tup[i] == x):\n",
    "        print(\"found at index\",i)\n",
    "    else:\n",
    "        print(\"finding\")\n",
    "    i += 1\n"
   ]
  },
  {
   "cell_type": "code",
   "execution_count": 66,
   "id": "c8facf29-3d3d-4e14-b737-234e99577bf0",
   "metadata": {},
   "outputs": [
    {
     "name": "stdout",
     "output_type": "stream",
     "text": [
      "number found at idx 7\n",
      "0\n",
      "1\n",
      "2\n",
      "3\n",
      "4\n",
      "5\n",
      "6\n",
      "7\n",
      "8\n",
      "9\n",
      "________________________________\n",
      "1\n",
      "2\n",
      "3\n",
      "4\n",
      "5\n",
      "6\n",
      "7\n",
      "8\n",
      "9\n",
      "________________________________\n",
      "1\n",
      "3\n",
      "5\n",
      "7\n",
      "9\n",
      "________________________________\n"
     ]
    },
    {
     "name": "stdin",
     "output_type": "stream",
     "text": [
      "enter number 1\n"
     ]
    },
    {
     "name": "stdout",
     "output_type": "stream",
     "text": [
      "1\n",
      "2\n",
      "3\n",
      "4\n",
      "5\n",
      "6\n",
      "7\n",
      "8\n",
      "9\n",
      "10\n"
     ]
    }
   ],
   "source": [
    "#for loop\n",
    "num=[1,4,9,16,25,36,49,64,81,100]\n",
    "x=64\n",
    "idx=0\n",
    "for el in num:\n",
    "    if(el==x):\n",
    "      print(\"number found at idx\",idx)\n",
    "    idx+=1\n",
    "#range is a function returns a sequence of numbers or strings from by default 0 and increments by 1 and stops before specified number\n",
    "\n",
    "for i in range(10):\n",
    "    print(i)\n",
    "    \n",
    "print(\"________________________________\")\n",
    "for i in range(1,10):\n",
    "    print(i)\n",
    "   \n",
    "print(\"________________________________\")\n",
    "for i in range(1,10,2):\n",
    "    print(i)\n",
    "    \n",
    "print(\"________________________________\")\n",
    "n=int(input(\"enter number\"))\n",
    "for i in range(1,11):\n",
    "    print(n*i)\n",
    "      \n"
   ]
  },
  {
   "cell_type": "code",
   "execution_count": 68,
   "id": "3990cd28-b82b-456c-a2e4-cda4e28eea4b",
   "metadata": {},
   "outputs": [
    {
     "name": "stdout",
     "output_type": "stream",
     "text": [
      "the factorial is  120\n"
     ]
    }
   ],
   "source": [
    "n=5\n",
    "fact = 1\n",
    "i=1\n",
    "while i<= n:\n",
    "    fact *= i\n",
    "    i+=1\n",
    "\n",
    "print(\"the factorial is \",fact)"
   ]
  },
  {
   "cell_type": "code",
   "execution_count": null,
   "id": "292c6f03-e31d-4a53-9c60-091ad6bc5cbc",
   "metadata": {},
   "outputs": [],
   "source": []
  }
 ],
 "metadata": {
  "kernelspec": {
   "display_name": "Python 3 (ipykernel)",
   "language": "python",
   "name": "python3"
  },
  "language_info": {
   "codemirror_mode": {
    "name": "ipython",
    "version": 3
   },
   "file_extension": ".py",
   "mimetype": "text/x-python",
   "name": "python",
   "nbconvert_exporter": "python",
   "pygments_lexer": "ipython3",
   "version": "3.12.4"
  }
 },
 "nbformat": 4,
 "nbformat_minor": 5
}
